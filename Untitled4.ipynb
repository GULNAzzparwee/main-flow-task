{
 "cells": [
  {
   "cell_type": "code",
   "execution_count": 2,
   "id": "b9fdec65-f013-4042-9e61-183f757ea7cf",
   "metadata": {},
   "outputs": [
    {
     "name": "stdout",
     "output_type": "stream",
     "text": [
      "Updated List: [10, 2, 4, 5, 6]\n"
     ]
    }
   ],
   "source": [
    "#creating a list\n",
    "my_list = [1,2,3,4,5]\n",
    "\n",
    "#adding an element to the list \n",
    "my_list.append(6)\n",
    "\n",
    "#removing an element from the list\n",
    "my_list.remove(3)\n",
    "\n",
    "#modying an element in the list\n",
    "my_list[0]= 10\n",
    "\n",
    "print(\"Updated List:\" , my_list)"
   ]
  },
  {
   "cell_type": "code",
   "execution_count": 4,
   "id": "1921f1ad-3a62-4c2f-b8c0-ddeced34eb98",
   "metadata": {},
   "outputs": [
    {
     "name": "stdout",
     "output_type": "stream",
     "text": [
      "Updated Dictionary: {'name': 'John', 'city': 'Mumbai', 'gender': 'Male'}\n"
     ]
    }
   ],
   "source": [
    "#create dictionary \n",
    "my_dict = {'name': 'John', 'age': 25, 'city': 'Delhi'}\n",
    "\n",
    "#adding\n",
    "my_dict['gender'] = 'Male'\n",
    "\n",
    "#removing\n",
    "del my_dict ['age']\n",
    "\n",
    "#modifying\n",
    "my_dict['city'] = 'Mumbai'\n",
    "\n",
    "print(\"Updated Dictionary:\" , my_dict)\n"
   ]
  },
  {
   "cell_type": "code",
   "execution_count": 5,
   "id": "a8c8e21e-fc89-435b-9819-18f14b324f5d",
   "metadata": {},
   "outputs": [
    {
     "name": "stdout",
     "output_type": "stream",
     "text": [
      "updated set: {2, 4, 5, 6, 10}\n"
     ]
    }
   ],
   "source": [
    "#creating set\n",
    "my_set = {1,2,3,4,5}\n",
    "\n",
    "#adding\n",
    "my_set.add(6)\n",
    "\n",
    "#removing\n",
    "my_set.remove(3)\n",
    "\n",
    "#modifying\n",
    "my_set.discard(1)\n",
    "my_set.add(10)\n",
    "\n",
    "print(\"updated set:\" , my_set)"
   ]
  },
  {
   "cell_type": "code",
   "execution_count": null,
   "id": "6a46e15a-c36d-4e21-8a25-ee46bc8a71ed",
   "metadata": {},
   "outputs": [],
   "source": []
  }
 ],
 "metadata": {
  "kernelspec": {
   "display_name": "Python 3 (ipykernel)",
   "language": "python",
   "name": "python3"
  },
  "language_info": {
   "codemirror_mode": {
    "name": "ipython",
    "version": 3
   },
   "file_extension": ".py",
   "mimetype": "text/x-python",
   "name": "python",
   "nbconvert_exporter": "python",
   "pygments_lexer": "ipython3",
   "version": "3.11.7"
  }
 },
 "nbformat": 4,
 "nbformat_minor": 5
}
